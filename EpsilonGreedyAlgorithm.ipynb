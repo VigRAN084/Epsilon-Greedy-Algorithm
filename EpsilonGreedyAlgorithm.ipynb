{
  "nbformat": 4,
  "nbformat_minor": 0,
  "metadata": {
    "colab": {
      "name": "EpsilonGreedyAlgorithm.ipynb",
      "provenance": [],
      "include_colab_link": true
    },
    "kernelspec": {
      "display_name": "Python 3",
      "name": "python3"
    },
    "language_info": {
      "name": "python"
    }
  },
  "cells": [
    {
      "cell_type": "markdown",
      "metadata": {
        "id": "view-in-github",
        "colab_type": "text"
      },
      "source": [
        "<a href=\"https://colab.research.google.com/github/VigRAN084/EpsilonGreedyAlgorithm/blob/main/EpsilonGreedyAlgorithm.ipynb\" target=\"_parent\"><img src=\"https://colab.research.google.com/assets/colab-badge.svg\" alt=\"Open In Colab\"/></a>"
      ]
    },
    {
      "cell_type": "code",
      "metadata": {
        "colab": {
          "base_uri": "https://localhost:8080/",
          "height": 303
        },
        "id": "_pG4znAXr0yk",
        "outputId": "eb661483-5a2e-4e21-8883-13b51a2446d4"
      },
      "source": [
        "'''\n",
        "Vignesh Rangarajan\n",
        "Epsilon-Greedy Algorithm\n",
        "'''\n",
        "\n",
        "import numpy as np\n",
        "import matplotlib.pyplot as plt\n",
        "  \n",
        "\n",
        "class Decision:\n",
        "  def __init__(self, sampleMean):\n",
        "    #sample mean amongst past selections of the arm\n",
        "    self.sampleMean = sampleMean\n",
        "    #mean of the reward distribution \n",
        "    self.mean = 0\n",
        "    #number of selections\n",
        "    self.N = 0\n",
        "    \n",
        "  def getReward(self): \n",
        "    #generate reward from the normal distribution of the arm\n",
        "    return  self.sampleMean +  np.random.randn() \n",
        "  \n",
        "  def changeAvgReward(self, r):\n",
        "    #increment the number of \n",
        "    self.N += 1\n",
        "    self.mean =  1.0 / self.N * r + (self.mean - 1.0 / self.N * self.mean) \n",
        "\n",
        "def simulation(epsilon, N):\n",
        "  #potential decisions and their rewards\n",
        "  decisions = [Decision(0.0),\n",
        "               Decision(0.5), \n",
        "               Decision(1.0),\n",
        "               Decision(1.5),\n",
        "               Decision(2.0),\n",
        "               Decision(2.5),\n",
        "               Decision(3.0),\n",
        "               Decision(3.5),\n",
        "               Decision(4.0),\n",
        "               Decision(4.5)]\n",
        "  \n",
        "  data = np.empty(N)\n",
        " \n",
        "  for i in range(N):\n",
        "    #exploration when probability less than epsilon\n",
        "    if np.random.random() < epsilon:\n",
        "      index = np.random.choice(10)\n",
        "    #exploitation when probability greater than epsilon\n",
        "    #uses arm with the maximum mean value\n",
        "    else:\n",
        "      index = np.argmax([d.mean for d in decisions])\n",
        "    #arm selection\n",
        "    tempReward = decisions[index].getReward()\n",
        "    decisions[index].changeAvgReward(tempReward)\n",
        "  \n",
        "    data[i] = tempReward\n",
        "  #generates avg reward after each successive selection\n",
        "  actionValEstimate = np.cumsum(data) / (np.arange(N) + 1)\n",
        "  print(actionValEstimate)\n",
        "  #plotting data\n",
        "  plt.plot(actionValEstimate)\n",
        "  plt.plot(np.ones(N)*0)\n",
        "  plt.plot(np.ones(N)*4.5)\n",
        "  plt.xscale('log')\n",
        "  plt.show()\n",
        "  \n",
        "if __name__ == '__main__':\n",
        "  trial = simulation(0.1, 10000)"
      ],
      "execution_count": null,
      "outputs": [
        {
          "output_type": "stream",
          "text": [
            "[-1.14737356 -0.32730255  0.21667749 ...  4.2812486   4.28111271\n",
            "  4.28107713]\n"
          ],
          "name": "stdout"
        },
        {
          "output_type": "display_data",
          "data": {
            "image/png": "[encoded data removed]",
            "text/plain": [
              "<Figure size 432x288 with 1 Axes>"
            ]
          },
          "metadata": {
            "tags": [],
            "needs_background": "light"
          }
        }
      ]
    },
    {
      "cell_type": "code",
      "metadata": {
        "id": "IoMAy-xbvsT1"
      },
      "source": [
        ""
      ],
      "execution_count": null,
      "outputs": []
    }
  ]
}